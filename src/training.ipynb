{
 "cells": [
  {
   "cell_type": "code",
   "execution_count": null,
   "metadata": {},
   "outputs": [],
   "source": [
    "%load_ext autoreload\n",
    "%autoreload 2\n",
    "\n",
    "from pytorch_lightning.callbacks import ModelCheckpoint\n",
    "from pytorch_lightning import Trainer\n",
    "\n",
    "from dataset import SWImageDataModule\n",
    "from model import Unet\n",
    "\n",
    "import config\n",
    "\n",
    "\n",
    "data_module = SWImageDataModule()\n",
    "\n",
    "model = Unet(data_module.img_size)\n",
    "\n",
    "callbacks = [\n",
    "    ModelCheckpoint(\n",
    "        filename='star_wars-{epoch}-{validation/loss:.3f}',\n",
    "        monitor='validation/loss', \n",
    "        save_top_k=1,\n",
    "        verbose=True, \n",
    "        mode='min'\n",
    "    ),\n",
    "]\n",
    "\n",
    "trainer = Trainer(\n",
    "    max_epochs=config.NUM_EPOCHS,\n",
    "    fast_dev_run=False,\n",
    "    default_root_dir=config.SAVE_PATH,\n",
    "    callbacks=callbacks,\n",
    "    limit_val_batches=config.LIMIT_VAL_BATCHES_RATIO,\n",
    "    accelerator='gpu',\n",
    "    devices=1,\n",
    ")\n",
    "\n",
    "trainer.fit(\n",
    "    model,\n",
    "    train_dataloaders=data_module.train_dataloader(),\n",
    "    val_dataloaders=data_module.val_dataloader()\n",
    ")"
   ]
  },
  {
   "cell_type": "code",
   "execution_count": null,
   "metadata": {},
   "outputs": [],
   "source": []
  }
 ],
 "metadata": {
  "kernelspec": {
   "display_name": "___venv",
   "language": "python",
   "name": "python3"
  },
  "language_info": {
   "codemirror_mode": {
    "name": "ipython",
    "version": 3
   },
   "file_extension": ".py",
   "mimetype": "text/x-python",
   "name": "python",
   "nbconvert_exporter": "python",
   "pygments_lexer": "ipython3",
   "version": "3.8.0"
  },
  "orig_nbformat": 4,
  "vscode": {
   "interpreter": {
    "hash": "6ad74df285d6f1c4f77d45a21ea77925f152974bc065893e07f804d5307097ef"
   }
  }
 },
 "nbformat": 4,
 "nbformat_minor": 2
}
